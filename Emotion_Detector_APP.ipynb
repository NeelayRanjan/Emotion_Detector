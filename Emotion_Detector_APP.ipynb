{
  "nbformat": 4,
  "nbformat_minor": 0,
  "metadata": {
    "colab": {
      "name": "Emotion Detector APP.ipynb",
      "provenance": []
    },
    "kernelspec": {
      "name": "python3",
      "display_name": "Python 3"
    },
    "language_info": {
      "name": "python"
    }
  },
  "cells": [
    {
      "cell_type": "code",
      "metadata": {
        "colab": {
          "base_uri": "https://localhost:8080/"
        },
        "id": "Eh-N4A-Ty6cI",
        "outputId": "5522212e-69a0-4d20-e7f8-74d383d65aa8"
      },
      "source": [
        "%%writefile page.html\n",
        "<!DOCTYPE html>\n",
        "<html lang=\"en\">\n",
        "<!--comment-->\n",
        "\t<head>\n",
        "\t\t<title>Emotion Detector</title>\n",
        "\t\t<style>\n",
        "\t\t\tdiv {\n",
        "\t\t\t\tmargin: auto;\n",
        "\t\t\t\ttext-align: center;\n",
        "\t\t\t\twidth:90%;\n",
        "\t\t\t\theight:100px;\n",
        "\t\t\t\tbackground-color: #6b7aff; /*blue*/\n",
        "\t\t\t\tborder:10px solid #6b7aff;\n",
        "\t\t\t}\n",
        "\t\t\t#main {\n",
        "\t\t\t\tmargin: auto;\n",
        "\t\t\t\ttext-align: center;\n",
        "\t\t\t\twidth:85%;\n",
        "\t\t\t\theight:1000px;\n",
        "\t\t\t\tbackground-color: #808080; /*gray*/\n",
        "\t\t\t\tborder:20px solid #808080;\n",
        "\t\t\t\tbox-shadow: 0 8px 16px 0 rgba(0,0,0,0.2), 0 6px 20px 0 rgba(0,0,0,0.19);\n",
        "\t\t\t}\n",
        "\t\t\t.button {\n",
        "\t\t\t   border: none;\n",
        "\t\t\t   color: white;\n",
        "\t\t\t\tpadding: 12px 32px\n",
        "\t\t\t   text-align: center;\n",
        "\t\t\t\ttransition-duration: .3s;\n",
        "\t\t\t}\n",
        "\t\t\t.button1 {\n",
        "\t\t\t\tmargin-left: 7px;\n",
        "\t\t\t\tmargin-right: 7px;\n",
        "\t\t\t\tbackground-color: #6b7aff;\n",
        "\t\t\t   color: black;\n",
        "\t\t\t\tborder-radius: 10px;\n",
        "\t\t\t\tcursor: mouse;\n",
        "\t\t\t\tbox-shadow: 0px 8px 16px 0px rgba(0,0,0,0.2), 0px 6px 20px 0px rgba(0,0,0,0.19);\n",
        "\t\t\t}\n",
        "\t\t\t.button1:hover {\n",
        " \t\t\t   background-color: #c7cdff;\n",
        " \t\t\t   color: white;\n",
        "\t\t\t\tbox-shadow: 0px 5px 20px 5px rgba(0,0,0,0.2), 0px 5px 20px 5px rgba(0,0,0,0.19);\n",
        "\t\t\t\tborder: 3px solid black;\n",
        "\t\t\t}\n",
        "\t\t\t.button1:active {\n",
        "\t\t\t   background-color: white;\n",
        "\t\t\t   box-shadow: 0 5px #666;\n",
        "\t\t\t   transform: translateY(4px);\n",
        "\t\t\t}\n",
        "\t\t\t.button2 {\n",
        "\t\t\t\tpadding: 4px;\n",
        "\t\t\t\tmargin-left: 7px;\n",
        "\t\t\t\tmargin-right: 7px;\n",
        "\t\t\t\tbackground-color: #808080;\n",
        "\t\t\t   color: black;\n",
        "\t\t\t\tborder-radius: 10px;\n",
        "\t\t\t\tcursor: mouse;\n",
        "\t\t\t\tbox-shadow: 0px 8px 16px 0px rgba(0,0,0,0.2), 0px 6px 20px 0px rgba(0,0,0,0.19);\n",
        "\t\t\t\ttransition-duration: .05s;\n",
        "\t\t\t\twidth: 200px;\n",
        "\t\t\t}\n",
        "\t\t\t.button2:hover {\n",
        "\t\t\t\tmargin: 0px auto;\n",
        " \t\t\t   background-color: darkgray;\n",
        " \t\t\t   color: black;\n",
        "\t\t\t\tbox-shadow: 0px 5px 20px 5px rgba(0,0,0,0.2), 0px 5px 20px 5px rgba(0,0,0,0.19);\n",
        "\t\t\t\tborder: 3px solid black;\n",
        "\t\t\t}\n",
        "\t\t\t.button2:active {\n",
        "\t\t\t   background-color: white;\n",
        "\t\t\t   box-shadow: 0 5px #666;\n",
        "\t\t\t   transform: translateY(2px);\n",
        "\t\t\t}\n",
        "\t\t\t#blank {\n",
        "\t\t\t\tmargin: auto;\n",
        "\t\t\t\ttext-align: center;\n",
        "\t\t\t\twidth:81%;\n",
        "\t\t\t\theight:45px;\n",
        "\t\t\t\tbackground-color: #808080;\n",
        "\t\t\t\tborder:0px solid #808080;\n",
        "\t\t\t}\n",
        "\t\t\t#response {\n",
        "\t\t\t\tmargin: 30px auto;\n",
        "\t\t\t\ttext-align: center;\n",
        "\t\t\t\twidth:81%;\n",
        "\t\t\t\theight:45px;\n",
        "\t\t\t\tbackground-color: #808080;\n",
        "\t\t\t\tborder:0px solid #808080;\n",
        "\t\t\t}\n",
        "      #filein {\n",
        "\t\t\t\tmargin: 30px auto;\n",
        "\t\t\t\ttext-align: center;\n",
        "\t\t\t\twidth:81%;\n",
        "\t\t\t\theight:45px;\n",
        "\t\t\t\tbackground-color: #808080;\n",
        "\t\t\t\tborder:0px solid #808080;\n",
        "\t\t\t}\n",
        "\t\t\t#container {\n",
        "\t\t\t\tmargin: 0px auto;\n",
        "\t\t\t\twidth: 500px;\n",
        "\t\t\t\theight: 375px;\n",
        "\t\t\t\tborder: 10px #333 solid;\n",
        "\t\t\t}\n",
        "\t\t\t#videoBox {\n",
        "\t\t\t\tmargin: auto;\n",
        "\t\t\t\twidth: 43.5%;\n",
        "\t\t\t\theight: 430px;\n",
        "\t\t\t\tbackground-color: #6b7aff;\n",
        "\t\t\t\tborder:10px solid #6b7aff;\n",
        "\t\t\t\tbox-shadow: 0 8px 16px 0 rgba(0,0,0,0.2), 0 6px 20px 0 rgba(0,0,0,0.19);\n",
        "\t\t\t\tborder-radius: 10px;\n",
        "\t\t\t}\n",
        "\t\t\t#videoElement {\n",
        "\t\t\t\tborder-radius: 10px;\n",
        "\t\t\t\twidth: 500px;\n",
        "\t\t\t\theight: 375px;\n",
        "\t\t\t\tbackground-color: #454545;\n",
        "\t\t\t}\n",
        "\t\t</style>\n",
        "\t</head>\n",
        "\t\n",
        "\t<body>\n",
        "\t\t<div><h1 style=\"color:black\"><font face=\"Cursive\" size=\"20px\"><center>\n",
        "\t\t\tEmotion Detector \n",
        "\t\t</center></font></h1></div>\n",
        "\t\t<div id=\"main\">\n",
        "\t\t\t\n",
        "\t\t\t<div id=\"filein\" class=\"file-field input-field\">\n",
        "        <div class=\"btn blue\">\n",
        "          <span><font face=\"Cursive\">Select Image, the AI works best when the image is in a 1:1 aspect ratio</span>\n",
        "          <input type=\"file\" accept=\"image/*\" onchange=\"onFileSelected(event)\">\n",
        "        </div>\n",
        "\n",
        "        <img id=\"image\" width=\"500\" height=\"500\"></img>\n",
        "\n",
        "        <h2><font face=\"Cursive\">The AI predicts that you are...</h2>\n",
        "\n",
        "        <h3 id=\"predicted_emotion\"><font face=\"Cursive\"></h3>\n",
        "\n",
        "      </div>\n",
        "    <script src=\"static/js/emotion_detection_script.js\"></script>\n",
        "    <script>\n",
        "        var imgtag = document.getElementById(\"image\")\n",
        "        var predicted_emotion = document.getElementById(\"predicted_emotion\")\n",
        "    </script>\n",
        "\t\t</div>\t\t\n",
        "\t\t</body>\n",
        "</html>"
      ],
      "execution_count": 1,
      "outputs": [
        {
          "output_type": "stream",
          "text": [
            "Writing page.html\n"
          ],
          "name": "stdout"
        }
      ]
    },
    {
      "cell_type": "code",
      "metadata": {
        "colab": {
          "base_uri": "https://localhost:8080/",
          "height": 545
        },
        "id": "rNgWdPCVkajy",
        "outputId": "7042f4af-7a06-4ff5-8b48-ff409f8773d8"
      },
      "source": [
        "import cv2\n",
        "import dlib\n",
        "import pickle\n",
        "import warnings\n",
        "import numpy as np\n",
        "import pandas as pd\n",
        "import seaborn as sns\n",
        "from numpy import asarray\n",
        "from PIL import Image\n",
        "\n",
        "import urllib.request\n",
        "\n",
        "from sklearn import metrics\n",
        "from scipy.spatial import distance\n",
        "from sklearn.metrics import accuracy_score\n",
        "from matplotlib import pyplot as plt\n",
        "from tqdm import tqdm,tqdm_pandas\n",
        "from sklearn.preprocessing import StandardScaler\n",
        "from sklearn.model_selection import train_test_split\n",
        "\n",
        "import re\n",
        "import gdown\n",
        "import keras\n",
        "\n",
        "from keras.models import Sequential\n",
        "from keras.utils import to_categorical\n",
        "from keras.optimizers import Adam\n",
        "from keras.layers import Dense, Dropout, Activation, Flatten\n",
        "from keras.layers import Conv2D, MaxPooling2D, BatchNormalization\n",
        "from keras.losses import categorical_crossentropy\n",
        "from keras.optimizers import Adam, SGD\n",
        "from keras.regularizers import l2\n",
        "from keras.callbacks import EarlyStopping, ModelCheckpoint\n",
        "from keras.models import load_model\n",
        "\n",
        "import keras\n",
        "from keras.layers import Activation, MaxPooling2D, Dropout, Flatten, Reshape, Dense, Conv2D, GlobalAveragePooling2D\n",
        "from keras.wrappers.scikit_learn import KerasClassifier\n",
        "import keras.optimizers as optimizers\n",
        "from keras.applications.vgg16 import VGG16\n",
        "\n",
        "import tensorflow as tf\n",
        "from keras.models import Sequential\n",
        "from keras.layers import Activation, Dropout, Flatten, Dense\n",
        "from keras import optimizers\n",
        "!pip install flask-ngrok\n",
        "from flask_ngrok import run_with_ngrok\n",
        "from flask import Flask, send_file, request, Response, jsonify\n",
        "from flask import send_file\n",
        "\n",
        "!pip install -U flask-cors\n",
        "from flask_cors import CORS, cross_origin\n",
        "import requests\n",
        "\n",
        "import codecs\n",
        "from flask_cors import CORS, cross_origin\n",
        "from flask import Flask, request, redirect\n",
        "from flask_ngrok import run_with_ngrok\n",
        "import webbrowser, requests, bs4, os, time\n",
        "from IPython.display import clear_output\n",
        "import urllib, os, subprocess\n",
        "import base64\n",
        "\n",
        "import os\n",
        "os.makedirs(\"static/js\")\n",
        "url = 'https://drive.google.com/uc?id=1UP9Wcv4KycoDbDI-l61-QtTvRUDJeyUs'\n",
        "output = 'static/js/emotion_detection_script.js'\n",
        "gdown.download(url, output, quiet=False)"
      ],
      "execution_count": 2,
      "outputs": [
        {
          "output_type": "stream",
          "text": [
            "Collecting flask-ngrok\n",
            "  Downloading https://files.pythonhosted.org/packages/af/6c/f54cb686ad1129e27d125d182f90f52b32f284e6c8df58c1bae54fa1adbc/flask_ngrok-0.0.25-py3-none-any.whl\n",
            "Requirement already satisfied: requests in /usr/local/lib/python3.7/dist-packages (from flask-ngrok) (2.23.0)\n",
            "Requirement already satisfied: Flask>=0.8 in /usr/local/lib/python3.7/dist-packages (from flask-ngrok) (1.1.2)\n",
            "Requirement already satisfied: certifi>=2017.4.17 in /usr/local/lib/python3.7/dist-packages (from requests->flask-ngrok) (2020.12.5)\n",
            "Requirement already satisfied: chardet<4,>=3.0.2 in /usr/local/lib/python3.7/dist-packages (from requests->flask-ngrok) (3.0.4)\n",
            "Requirement already satisfied: urllib3!=1.25.0,!=1.25.1,<1.26,>=1.21.1 in /usr/local/lib/python3.7/dist-packages (from requests->flask-ngrok) (1.24.3)\n",
            "Requirement already satisfied: idna<3,>=2.5 in /usr/local/lib/python3.7/dist-packages (from requests->flask-ngrok) (2.10)\n",
            "Requirement already satisfied: Werkzeug>=0.15 in /usr/local/lib/python3.7/dist-packages (from Flask>=0.8->flask-ngrok) (1.0.1)\n",
            "Requirement already satisfied: itsdangerous>=0.24 in /usr/local/lib/python3.7/dist-packages (from Flask>=0.8->flask-ngrok) (1.1.0)\n",
            "Requirement already satisfied: click>=5.1 in /usr/local/lib/python3.7/dist-packages (from Flask>=0.8->flask-ngrok) (7.1.2)\n",
            "Requirement already satisfied: Jinja2>=2.10.1 in /usr/local/lib/python3.7/dist-packages (from Flask>=0.8->flask-ngrok) (2.11.3)\n",
            "Requirement already satisfied: MarkupSafe>=0.23 in /usr/local/lib/python3.7/dist-packages (from Jinja2>=2.10.1->Flask>=0.8->flask-ngrok) (1.1.1)\n",
            "Installing collected packages: flask-ngrok\n",
            "Successfully installed flask-ngrok-0.0.25\n",
            "Collecting flask-cors\n",
            "  Downloading https://files.pythonhosted.org/packages/db/84/901e700de86604b1c4ef4b57110d4e947c218b9997adf5d38fa7da493bce/Flask_Cors-3.0.10-py2.py3-none-any.whl\n",
            "Requirement already satisfied, skipping upgrade: Flask>=0.9 in /usr/local/lib/python3.7/dist-packages (from flask-cors) (1.1.2)\n",
            "Requirement already satisfied, skipping upgrade: Six in /usr/local/lib/python3.7/dist-packages (from flask-cors) (1.15.0)\n",
            "Requirement already satisfied, skipping upgrade: Werkzeug>=0.15 in /usr/local/lib/python3.7/dist-packages (from Flask>=0.9->flask-cors) (1.0.1)\n",
            "Requirement already satisfied, skipping upgrade: Jinja2>=2.10.1 in /usr/local/lib/python3.7/dist-packages (from Flask>=0.9->flask-cors) (2.11.3)\n",
            "Requirement already satisfied, skipping upgrade: itsdangerous>=0.24 in /usr/local/lib/python3.7/dist-packages (from Flask>=0.9->flask-cors) (1.1.0)\n",
            "Requirement already satisfied, skipping upgrade: click>=5.1 in /usr/local/lib/python3.7/dist-packages (from Flask>=0.9->flask-cors) (7.1.2)\n",
            "Requirement already satisfied, skipping upgrade: MarkupSafe>=0.23 in /usr/local/lib/python3.7/dist-packages (from Jinja2>=2.10.1->Flask>=0.9->flask-cors) (1.1.1)\n",
            "Installing collected packages: flask-cors\n",
            "Successfully installed flask-cors-3.0.10\n"
          ],
          "name": "stdout"
        },
        {
          "output_type": "stream",
          "text": [
            "Downloading...\n",
            "From: https://drive.google.com/uc?id=1UP9Wcv4KycoDbDI-l61-QtTvRUDJeyUs\n",
            "To: /content/static/js/emotion_detection_script.js\n",
            "100%|██████████| 915/915 [00:00<00:00, 459kB/s]\n"
          ],
          "name": "stderr"
        },
        {
          "output_type": "execute_result",
          "data": {
            "application/vnd.google.colaboratory.intrinsic+json": {
              "type": "string"
            },
            "text/plain": [
              "'static/js/emotion_detection_script.js'"
            ]
          },
          "metadata": {
            "tags": []
          },
          "execution_count": 2
        }
      ]
    },
    {
      "cell_type": "code",
      "metadata": {
        "colab": {
          "base_uri": "https://localhost:8080/",
          "height": 35
        },
        "id": "4UFoF2L_m19R",
        "outputId": "e4bf4ac6-593a-41a8-eb60-3ee50058f16b"
      },
      "source": [
        "pureX_url = 'https://drive.google.com/uc?id=1x3rtuadoVywOMZGdqz3ioUZbRPWWFyiS'\n",
        "pureX_path = './vgg.h5'\n",
        "gdown.download(pureX_url, pureX_path,True)"
      ],
      "execution_count": 3,
      "outputs": [
        {
          "output_type": "execute_result",
          "data": {
            "application/vnd.google.colaboratory.intrinsic+json": {
              "type": "string"
            },
            "text/plain": [
              "'./vgg.h5'"
            ]
          },
          "metadata": {
            "tags": []
          },
          "execution_count": 3
        }
      ]
    },
    {
      "cell_type": "code",
      "metadata": {
        "id": "7XWnquYkkmZh"
      },
      "source": [
        "vgg = tf.keras.models.load_model('vgg.h5')"
      ],
      "execution_count": 4,
      "outputs": []
    },
    {
      "cell_type": "code",
      "metadata": {
        "id": "EoGMeHNr25SX"
      },
      "source": [
        "app = Flask(__name__)\n",
        "run_with_ngrok(app)\n",
        "CORS(app)\n",
        "\n",
        "simple_webpage = \"page.html\"\n",
        "simple_html = codecs.open(simple_webpage, 'r').read()\n",
        "\n",
        "@app.route(\"/\")\n",
        "def home():\n",
        "    return simple_html"
      ],
      "execution_count": 5,
      "outputs": []
    },
    {
      "cell_type": "code",
      "metadata": {
        "id": "Z4IejNG35vpY"
      },
      "source": [
        "@app.route('/predict_emotion', methods=['POST'])\n",
        "@cross_origin(headers=['Access-Control-Allow-Origin'])\n",
        "def predict_emotion():\n",
        "    try:\n",
        "      print(\"Received Image\")\n",
        "      base64_img = base64.decodebytes(request.data)\n",
        "      nparr = np.frombuffer(base64_img, np.uint8)\n",
        "      img = cv2.imdecode(nparr, cv2.IMREAD_GRAYSCALE)\n",
        "      img = cv2.resize(img,(48,48)).astype('float32')\n",
        "\n",
        "      print(\"Processed Image\")\n",
        "      \n",
        "      img = np.reshape(img,(1,48,48))\n",
        "      img = np.array([np.transpose(np.array([img[ix].squeeze() for i in range(3)]), (1,2,0)) for ix in range(len(img))])\n",
        "      pred = vgg.predict(img)\n",
        "      print(\"Predicted Emotion\")\n",
        "\n",
        "      emotions = [\"Angry\",\"Happy\",\"Sad\",\"Surprised\",\"Neutral\"]\n",
        "      pred_emotion = emotions[np.argmax(pred)]\n",
        "      print(pred_emotion)\n",
        "\n",
        "      return jsonify({'emotion': pred_emotion})\n",
        "    except Exception as e:\n",
        "      print(e)\n",
        "      return \"Invalid Request\", 400"
      ],
      "execution_count": 6,
      "outputs": []
    },
    {
      "cell_type": "code",
      "metadata": {
        "colab": {
          "base_uri": "https://localhost:8080/"
        },
        "id": "y1IRAAwPAikG",
        "outputId": "7a5afda3-9be9-4887-c9e1-8b8bd0189b99"
      },
      "source": [
        "app.run()"
      ],
      "execution_count": 7,
      "outputs": [
        {
          "output_type": "stream",
          "text": [
            " * Serving Flask app \"__main__\" (lazy loading)\n",
            " * Environment: production\n",
            "\u001b[31m   WARNING: This is a development server. Do not use it in a production deployment.\u001b[0m\n",
            "\u001b[2m   Use a production WSGI server instead.\u001b[0m\n",
            " * Debug mode: off\n"
          ],
          "name": "stdout"
        },
        {
          "output_type": "stream",
          "text": [
            " * Running on http://127.0.0.1:5000/ (Press CTRL+C to quit)\n"
          ],
          "name": "stderr"
        },
        {
          "output_type": "stream",
          "text": [
            " * Running on http://5f091a32639e.ngrok.io\n",
            " * Traffic stats available on http://127.0.0.1:4040\n"
          ],
          "name": "stdout"
        },
        {
          "output_type": "stream",
          "text": [
            "127.0.0.1 - - [18/Apr/2021 04:43:04] \"\u001b[37mGET / HTTP/1.1\u001b[0m\" 200 -\n",
            "127.0.0.1 - - [18/Apr/2021 04:43:04] \"\u001b[37mGET /static/js/emotion_detection_script.js HTTP/1.1\u001b[0m\" 200 -\n",
            "127.0.0.1 - - [18/Apr/2021 04:43:04] \"\u001b[33mGET /favicon.ico HTTP/1.1\u001b[0m\" 404 -\n",
            "127.0.0.1 - - [18/Apr/2021 04:43:04] \"\u001b[37mGET / HTTP/1.1\u001b[0m\" 200 -\n",
            "127.0.0.1 - - [18/Apr/2021 04:43:05] \"\u001b[37mGET /static/js/emotion_detection_script.js HTTP/1.1\u001b[0m\" 200 -\n"
          ],
          "name": "stderr"
        },
        {
          "output_type": "stream",
          "text": [
            "Received Image\n",
            "Processed Image\n"
          ],
          "name": "stdout"
        },
        {
          "output_type": "stream",
          "text": [
            "127.0.0.1 - - [18/Apr/2021 04:43:10] \"\u001b[37mPOST /predict_emotion HTTP/1.1\u001b[0m\" 200 -\n"
          ],
          "name": "stderr"
        },
        {
          "output_type": "stream",
          "text": [
            "Predicted Emotion\n",
            "Angry\n"
          ],
          "name": "stdout"
        },
        {
          "output_type": "stream",
          "text": [
            "127.0.0.1 - - [18/Apr/2021 04:43:14] \"\u001b[37mPOST /predict_emotion HTTP/1.1\u001b[0m\" 200 -\n"
          ],
          "name": "stderr"
        },
        {
          "output_type": "stream",
          "text": [
            "Received Image\n",
            "Processed Image\n",
            "Predicted Emotion\n",
            "Happy\n"
          ],
          "name": "stdout"
        },
        {
          "output_type": "stream",
          "text": [
            "127.0.0.1 - - [18/Apr/2021 04:43:16] \"\u001b[37mPOST /predict_emotion HTTP/1.1\u001b[0m\" 200 -\n"
          ],
          "name": "stderr"
        },
        {
          "output_type": "stream",
          "text": [
            "Received Image\n",
            "Processed Image\n",
            "Predicted Emotion\n",
            "Neutral\n"
          ],
          "name": "stdout"
        },
        {
          "output_type": "stream",
          "text": [
            "127.0.0.1 - - [18/Apr/2021 04:43:19] \"\u001b[37mPOST /predict_emotion HTTP/1.1\u001b[0m\" 200 -\n"
          ],
          "name": "stderr"
        },
        {
          "output_type": "stream",
          "text": [
            "Received Image\n",
            "Processed Image\n",
            "Predicted Emotion\n",
            "Sad\n"
          ],
          "name": "stdout"
        },
        {
          "output_type": "stream",
          "text": [
            "127.0.0.1 - - [18/Apr/2021 04:43:22] \"\u001b[37mPOST /predict_emotion HTTP/1.1\u001b[0m\" 200 -\n"
          ],
          "name": "stderr"
        },
        {
          "output_type": "stream",
          "text": [
            "Received Image\n",
            "Processed Image\n",
            "Predicted Emotion\n",
            "Surprised\n"
          ],
          "name": "stdout"
        },
        {
          "output_type": "stream",
          "text": [
            "127.0.0.1 - - [18/Apr/2021 04:43:48] \"\u001b[37mPOST /predict_emotion HTTP/1.1\u001b[0m\" 200 -\n"
          ],
          "name": "stderr"
        },
        {
          "output_type": "stream",
          "text": [
            "Received Image\n",
            "Processed Image\n",
            "Predicted Emotion\n",
            "Angry\n"
          ],
          "name": "stdout"
        },
        {
          "output_type": "stream",
          "text": [
            "127.0.0.1 - - [18/Apr/2021 04:44:13] \"\u001b[37mPOST /predict_emotion HTTP/1.1\u001b[0m\" 200 -\n"
          ],
          "name": "stderr"
        },
        {
          "output_type": "stream",
          "text": [
            "Received Image\n",
            "Processed Image\n",
            "Predicted Emotion\n",
            "Surprised\n"
          ],
          "name": "stdout"
        }
      ]
    }
  ]
}