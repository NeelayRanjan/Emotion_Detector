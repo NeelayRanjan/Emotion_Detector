{
  "nbformat": 4,
  "nbformat_minor": 0,
  "metadata": {
    "accelerator": "GPU",
    "colab": {
      "name": "Emotion Detection.ipynb",
      "provenance": [],
      "collapsed_sections": []
    },
    "kernelspec": {
      "display_name": "Python 3",
      "name": "python3"
    }
  },
  "cells": [
    {
      "cell_type": "code",
      "metadata": {
        "colab": {
          "base_uri": "https://localhost:8080/"
        },
        "id": "Qhr-G_92H2Bc",
        "outputId": "0dfe3a54-c2a1-46a0-da56-ad97591feb6e"
      },
      "source": [
        "import cv2\n",
        "import dlib\n",
        "import pickle\n",
        "import warnings\n",
        "import numpy as np\n",
        "import pandas as pd\n",
        "import seaborn as sns\n",
        "from numpy import asarray\n",
        "from PIL import Image\n",
        "\n",
        "import urllib.request\n",
        "\n",
        "from sklearn import metrics\n",
        "from scipy.spatial import distance\n",
        "from sklearn.metrics import accuracy_score\n",
        "from matplotlib import pyplot as plt\n",
        "from tqdm import tqdm,tqdm_pandas\n",
        "from sklearn.preprocessing import StandardScaler\n",
        "from sklearn.model_selection import train_test_split\n",
        "\n",
        "import re\n",
        "import gdown\n",
        "import keras\n",
        "\n",
        "from keras.models import Sequential\n",
        "from keras.utils import to_categorical\n",
        "from keras.optimizers import Adam\n",
        "from keras.layers import Dense, Dropout, Activation, Flatten\n",
        "from keras.layers import Conv2D, MaxPooling2D, BatchNormalization\n",
        "from keras.losses import categorical_crossentropy\n",
        "from keras.optimizers import Adam, SGD\n",
        "from keras.regularizers import l2\n",
        "from keras.callbacks import EarlyStopping, ModelCheckpoint\n",
        "from keras.models import load_model\n",
        "\n",
        "import keras\n",
        "from keras.layers import Activation, MaxPooling2D, Dropout, Flatten, Reshape, Dense, Conv2D, GlobalAveragePooling2D\n",
        "from keras.wrappers.scikit_learn import KerasClassifier\n",
        "import keras.optimizers as optimizers\n",
        "from keras.applications.vgg16 import VGG16\n",
        "\n",
        "import tensorflow as tf\n",
        "from keras.models import Sequential\n",
        "from keras.layers import Activation, Dropout, Flatten, Dense\n",
        "from keras import optimizers\n",
        "\n",
        "warnings.filterwarnings(\"ignore\")\n",
        "def model_to_string(model):\n",
        "    import re\n",
        "    stringlist = []\n",
        "    model.summary(print_fn=lambda x: stringlist.append(x))\n",
        "    sms = \"\\n\".join(stringlist)\n",
        "    sms = re.sub('_\\d\\d\\d','', sms)\n",
        "    sms = re.sub('_\\d\\d','', sms)\n",
        "    sms = re.sub('_\\d','', sms)  \n",
        "    return sms\n",
        "\n",
        "\n",
        "###Getting the Xpure loaded\n",
        "pureX_url = 'https://drive.google.com/uc?id=1CglpXodenZVrkaZehLtfykfQv8dcnfO9'\n",
        "pureX_path = './pureX.npy'\n",
        "gdown.download(pureX_url, pureX_path,True)\n",
        "\n",
        "\n",
        "###Getting the Ydata loaded\n",
        "dataY_url = 'https://drive.google.com/uc?id=1Rfr0OP-hZO_UZfuOyMNR2RjNRAro85zE'\n",
        "dataY_path = './dataY.npy'\n",
        "gdown.download(dataY_url, dataY_path, True)\n",
        "\n",
        "print (\"Data Downloaded!\")\n",
        "\n",
        "\n",
        "#Integer to Label Mapping\n",
        "label_map = {\"0\":\"ANGRY\",\"1\":\"HAPPY\",\"2\":\"SAD\",\"3\":\"SURPRISE\",\"4\":\"NEUTRAL\"}"
      ],
      "execution_count": null,
      "outputs": [
        {
          "output_type": "stream",
          "text": [
            "Data Downloaded!\n"
          ],
          "name": "stdout"
        }
      ]
    },
    {
      "cell_type": "code",
      "metadata": {
        "id": "284_6dNsHiS5"
      },
      "source": [
        "# the number of times we pass all the training data through the model \n",
        "epochs = 500\n",
        "# the number of examples we pass to the model at each time\n",
        "batch_size = 256\n",
        "# the proportion of testing data we set aside (e.g. 10%)\n",
        "test_ratio = .1\n",
        "# the number of emotion categories we have to predict\n",
        "n_labels = 5 \n",
        "# the width and height of the images\n",
        "width, height = 48, 48"
      ],
      "execution_count": null,
      "outputs": []
    },
    {
      "cell_type": "code",
      "metadata": {
        "id": "oG7AIjf3xWBa"
      },
      "source": [
        "# load unprocessed data \n",
        "dataX_pixels = np.load('pureX.npy')\n",
        "dataY_pixels = np.load('dataY.npy')"
      ],
      "execution_count": null,
      "outputs": []
    },
    {
      "cell_type": "code",
      "metadata": {
        "id": "qA_0acGq9AJN"
      },
      "source": [
        "# convert labels to one hot encoding\n",
        "y_onehot = keras.utils.to_categorical(dataY_pixels, len(set(dataY_pixels)))"
      ],
      "execution_count": null,
      "outputs": []
    },
    {
      "cell_type": "code",
      "metadata": {
        "id": "cVO4wnTY7rRk"
      },
      "source": [
        "# split Data into Train, Test (90-10)\n",
        "X_train, X_test, y_train, y_test = train_test_split(dataX_pixels, y_onehot, test_size=test_ratio, random_state=42)\n",
        "#Standardize the data\n",
        "pixel_scaler = StandardScaler()\n",
        "pixel_scaler.fit(X_train)\n",
        "X_train = pixel_scaler.transform(X_train)\n",
        "X_test = pixel_scaler.transform(X_test)\n",
        "#Turn the data into a format the CNN will understand\n",
        "X_train_cnn = X_train.reshape(len(X_train),height,width)\n",
        "X_test_cnn = X_test.reshape(len(X_test),height,width)"
      ],
      "execution_count": null,
      "outputs": []
    },
    {
      "cell_type": "code",
      "metadata": {
        "colab": {
          "base_uri": "https://localhost:8080/"
        },
        "id": "OPpE58jJmIdY",
        "outputId": "70451171-1f9a-4f9b-ad33-6978573d31e0"
      },
      "source": [
        "# load the vgg network that is an 'expert' at 'imagenet' but do not include the FC layers\n",
        "vgg_expert = VGG16(weights = 'imagenet', include_top = False, input_shape = (48, 48, 3))\n",
        "\n",
        "# we add the first 12 layers of vgg to our own model vgg_model\n",
        "vgg_model = Sequential()\n",
        "vgg_model.add(vgg_expert)\n",
        "\n",
        "# and then add our own layers on top of it\n",
        "vgg_model.add(GlobalAveragePooling2D())\n",
        "vgg_model.add(Dense(1024, activation = 'tanh'))\n",
        "vgg_model.add(Dropout(0.5))\n",
        "vgg_model.add(Dense(1024, activation = 'tanh'))\n",
        "vgg_model.add(Dropout(0.5))\n",
        "vgg_model.add(Dense(1024, activation = 'tanh'))\n",
        "vgg_model.add(Dropout(0.5))\n",
        "vgg_model.add(Dense(5, activation = 'sigmoid'))\n",
        "\n",
        "#build the vgg model\n",
        "vgg_model.compile(loss = 'categorical_crossentropy', \n",
        "          optimizer = optimizers.SGD(lr=1e-4, momentum=0.95), \n",
        "          metrics=['accuracy'])\n",
        "\n",
        "X_TRAIN = np.array([np.transpose(np.array([X_train_cnn[ix].squeeze() for i in range(3)]), (1,2,0)) for ix in range(len(X_train))])\n",
        "X_TEST = np.array([np.transpose(np.array([X_test_cnn[ix].squeeze() for i in range(3)]), (1,2,0)) for ix in range(len(X_test))])\n",
        "\n",
        "checkpoint = ModelCheckpoint('best_VGG_model.h5', verbose=1, monitor='val_loss',save_best_only=True, mode='auto')\n",
        "early = EarlyStopping(monitor='val_loss', min_delta=0, patience=25, verbose=1, mode='auto')\n",
        "\n",
        "#training the model\n",
        "vgg_history = vgg_model.fit(X_TRAIN, y_train,\n",
        "          batch_size=batch_size,\n",
        "          epochs=epochs,\n",
        "          verbose=1,\n",
        "          callbacks=[checkpoint, early],\n",
        "          validation_data=(X_TEST, y_test),\n",
        "          shuffle=True)"
      ],
      "execution_count": null,
      "outputs": [
        {
          "output_type": "stream",
          "text": [
            "Downloading data from https://storage.googleapis.com/tensorflow/keras-applications/vgg16/vgg16_weights_tf_dim_ordering_tf_kernels_notop.h5\n",
            "58892288/58889256 [==============================] - 1s 0us/step\n",
            "Epoch 1/500\n",
            "71/71 [==============================] - 54s 238ms/step - loss: 1.9203 - accuracy: 0.2069 - val_loss: 1.5114 - val_accuracy: 0.3740\n",
            "\n",
            "Epoch 00001: val_loss improved from inf to 1.51138, saving model to best_VGG_model.h5\n",
            "Epoch 2/500\n",
            "71/71 [==============================] - 13s 178ms/step - loss: 1.5378 - accuracy: 0.3045 - val_loss: 1.4167 - val_accuracy: 0.4180\n",
            "\n",
            "Epoch 00002: val_loss improved from 1.51138 to 1.41671, saving model to best_VGG_model.h5\n",
            "Epoch 3/500\n",
            "71/71 [==============================] - 13s 180ms/step - loss: 1.4501 - accuracy: 0.3558 - val_loss: 1.3686 - val_accuracy: 0.4450\n",
            "\n",
            "Epoch 00003: val_loss improved from 1.41671 to 1.36856, saving model to best_VGG_model.h5\n",
            "Epoch 4/500\n",
            "71/71 [==============================] - 13s 182ms/step - loss: 1.3931 - accuracy: 0.3956 - val_loss: 1.2776 - val_accuracy: 0.4640\n",
            "\n",
            "Epoch 00004: val_loss improved from 1.36856 to 1.27763, saving model to best_VGG_model.h5\n",
            "Epoch 5/500\n",
            "71/71 [==============================] - 13s 186ms/step - loss: 1.3227 - accuracy: 0.4382 - val_loss: 1.2209 - val_accuracy: 0.5085\n",
            "\n",
            "Epoch 00005: val_loss improved from 1.27763 to 1.22088, saving model to best_VGG_model.h5\n",
            "Epoch 6/500\n",
            "71/71 [==============================] - 13s 188ms/step - loss: 1.2662 - accuracy: 0.4730 - val_loss: 1.1719 - val_accuracy: 0.5295\n",
            "\n",
            "Epoch 00006: val_loss improved from 1.22088 to 1.17192, saving model to best_VGG_model.h5\n",
            "Epoch 7/500\n",
            "71/71 [==============================] - 14s 192ms/step - loss: 1.2185 - accuracy: 0.4897 - val_loss: 1.1296 - val_accuracy: 0.5465\n",
            "\n",
            "Epoch 00007: val_loss improved from 1.17192 to 1.12958, saving model to best_VGG_model.h5\n",
            "Epoch 8/500\n",
            "71/71 [==============================] - 14s 197ms/step - loss: 1.1595 - accuracy: 0.5297 - val_loss: 1.1068 - val_accuracy: 0.5620\n",
            "\n",
            "Epoch 00008: val_loss improved from 1.12958 to 1.10679, saving model to best_VGG_model.h5\n",
            "Epoch 9/500\n",
            "71/71 [==============================] - 14s 202ms/step - loss: 1.1174 - accuracy: 0.5525 - val_loss: 1.0605 - val_accuracy: 0.5790\n",
            "\n",
            "Epoch 00009: val_loss improved from 1.10679 to 1.06053, saving model to best_VGG_model.h5\n",
            "Epoch 10/500\n",
            "71/71 [==============================] - 14s 201ms/step - loss: 1.0789 - accuracy: 0.5683 - val_loss: 1.0579 - val_accuracy: 0.5795\n",
            "\n",
            "Epoch 00010: val_loss improved from 1.06053 to 1.05789, saving model to best_VGG_model.h5\n",
            "Epoch 11/500\n",
            "71/71 [==============================] - 14s 197ms/step - loss: 1.0637 - accuracy: 0.5765 - val_loss: 1.0226 - val_accuracy: 0.6000\n",
            "\n",
            "Epoch 00011: val_loss improved from 1.05789 to 1.02259, saving model to best_VGG_model.h5\n",
            "Epoch 12/500\n",
            "71/71 [==============================] - 14s 195ms/step - loss: 1.0437 - accuracy: 0.5860 - val_loss: 1.0290 - val_accuracy: 0.5900\n",
            "\n",
            "Epoch 00012: val_loss did not improve from 1.02259\n",
            "Epoch 13/500\n",
            "71/71 [==============================] - 14s 196ms/step - loss: 1.0284 - accuracy: 0.5950 - val_loss: 1.0028 - val_accuracy: 0.5930\n",
            "\n",
            "Epoch 00013: val_loss improved from 1.02259 to 1.00282, saving model to best_VGG_model.h5\n",
            "Epoch 14/500\n",
            "71/71 [==============================] - 14s 199ms/step - loss: 0.9794 - accuracy: 0.6148 - val_loss: 0.9812 - val_accuracy: 0.6135\n",
            "\n",
            "Epoch 00014: val_loss improved from 1.00282 to 0.98117, saving model to best_VGG_model.h5\n",
            "Epoch 15/500\n",
            "71/71 [==============================] - 14s 199ms/step - loss: 0.9663 - accuracy: 0.6226 - val_loss: 0.9726 - val_accuracy: 0.6165\n",
            "\n",
            "Epoch 00015: val_loss improved from 0.98117 to 0.97259, saving model to best_VGG_model.h5\n",
            "Epoch 16/500\n",
            "71/71 [==============================] - 14s 199ms/step - loss: 0.9458 - accuracy: 0.6328 - val_loss: 0.9596 - val_accuracy: 0.6265\n",
            "\n",
            "Epoch 00016: val_loss improved from 0.97259 to 0.95961, saving model to best_VGG_model.h5\n",
            "Epoch 17/500\n",
            "71/71 [==============================] - 14s 197ms/step - loss: 0.9417 - accuracy: 0.6372 - val_loss: 0.9528 - val_accuracy: 0.6340\n",
            "\n",
            "Epoch 00017: val_loss improved from 0.95961 to 0.95281, saving model to best_VGG_model.h5\n",
            "Epoch 18/500\n",
            "71/71 [==============================] - 14s 197ms/step - loss: 0.9123 - accuracy: 0.6455 - val_loss: 0.9333 - val_accuracy: 0.6435\n",
            "\n",
            "Epoch 00018: val_loss improved from 0.95281 to 0.93331, saving model to best_VGG_model.h5\n",
            "Epoch 19/500\n",
            "71/71 [==============================] - 14s 198ms/step - loss: 0.8770 - accuracy: 0.6623 - val_loss: 0.9293 - val_accuracy: 0.6420\n",
            "\n",
            "Epoch 00019: val_loss improved from 0.93331 to 0.92927, saving model to best_VGG_model.h5\n",
            "Epoch 20/500\n",
            "71/71 [==============================] - 14s 199ms/step - loss: 0.8674 - accuracy: 0.6647 - val_loss: 0.9484 - val_accuracy: 0.6295\n",
            "\n",
            "Epoch 00020: val_loss did not improve from 0.92927\n",
            "Epoch 21/500\n",
            "71/71 [==============================] - 14s 198ms/step - loss: 0.8687 - accuracy: 0.6638 - val_loss: 0.9365 - val_accuracy: 0.6385\n",
            "\n",
            "Epoch 00021: val_loss did not improve from 0.92927\n",
            "Epoch 22/500\n",
            "71/71 [==============================] - 14s 198ms/step - loss: 0.8174 - accuracy: 0.6873 - val_loss: 0.9090 - val_accuracy: 0.6510\n",
            "\n",
            "Epoch 00022: val_loss improved from 0.92927 to 0.90896, saving model to best_VGG_model.h5\n",
            "Epoch 23/500\n",
            "71/71 [==============================] - 14s 198ms/step - loss: 0.8155 - accuracy: 0.6916 - val_loss: 0.9138 - val_accuracy: 0.6590\n",
            "\n",
            "Epoch 00023: val_loss did not improve from 0.90896\n",
            "Epoch 24/500\n",
            "71/71 [==============================] - 14s 197ms/step - loss: 0.7927 - accuracy: 0.7016 - val_loss: 0.9394 - val_accuracy: 0.6420\n",
            "\n",
            "Epoch 00024: val_loss did not improve from 0.90896\n",
            "Epoch 25/500\n",
            "71/71 [==============================] - 14s 197ms/step - loss: 0.7975 - accuracy: 0.7001 - val_loss: 0.9721 - val_accuracy: 0.6340\n",
            "\n",
            "Epoch 00025: val_loss did not improve from 0.90896\n",
            "Epoch 26/500\n",
            "71/71 [==============================] - 14s 198ms/step - loss: 0.7920 - accuracy: 0.7028 - val_loss: 0.8841 - val_accuracy: 0.6640\n",
            "\n",
            "Epoch 00026: val_loss improved from 0.90896 to 0.88407, saving model to best_VGG_model.h5\n",
            "Epoch 27/500\n",
            "71/71 [==============================] - 14s 198ms/step - loss: 0.7419 - accuracy: 0.7281 - val_loss: 0.9019 - val_accuracy: 0.6590\n",
            "\n",
            "Epoch 00027: val_loss did not improve from 0.88407\n",
            "Epoch 28/500\n",
            "71/71 [==============================] - 14s 198ms/step - loss: 0.7361 - accuracy: 0.7254 - val_loss: 0.9568 - val_accuracy: 0.6395\n",
            "\n",
            "Epoch 00028: val_loss did not improve from 0.88407\n",
            "Epoch 29/500\n",
            "71/71 [==============================] - 14s 198ms/step - loss: 0.7453 - accuracy: 0.7214 - val_loss: 0.8860 - val_accuracy: 0.6630\n",
            "\n",
            "Epoch 00029: val_loss did not improve from 0.88407\n",
            "Epoch 30/500\n",
            "71/71 [==============================] - 14s 199ms/step - loss: 0.7057 - accuracy: 0.7360 - val_loss: 0.8874 - val_accuracy: 0.6680\n",
            "\n",
            "Epoch 00030: val_loss did not improve from 0.88407\n",
            "Epoch 31/500\n",
            "71/71 [==============================] - 14s 198ms/step - loss: 0.6894 - accuracy: 0.7467 - val_loss: 0.8789 - val_accuracy: 0.6735\n",
            "\n",
            "Epoch 00031: val_loss improved from 0.88407 to 0.87892, saving model to best_VGG_model.h5\n",
            "Epoch 32/500\n",
            "71/71 [==============================] - 14s 198ms/step - loss: 0.6817 - accuracy: 0.7492 - val_loss: 0.8862 - val_accuracy: 0.6725\n",
            "\n",
            "Epoch 00032: val_loss did not improve from 0.87892\n",
            "Epoch 33/500\n",
            "71/71 [==============================] - 14s 198ms/step - loss: 0.6610 - accuracy: 0.7562 - val_loss: 0.9269 - val_accuracy: 0.6625\n",
            "\n",
            "Epoch 00033: val_loss did not improve from 0.87892\n",
            "Epoch 34/500\n",
            "71/71 [==============================] - 14s 198ms/step - loss: 0.6548 - accuracy: 0.7603 - val_loss: 0.9046 - val_accuracy: 0.6725\n",
            "\n",
            "Epoch 00034: val_loss did not improve from 0.87892\n",
            "Epoch 35/500\n",
            "71/71 [==============================] - 14s 198ms/step - loss: 0.6134 - accuracy: 0.7754 - val_loss: 0.9513 - val_accuracy: 0.6720\n",
            "\n",
            "Epoch 00035: val_loss did not improve from 0.87892\n",
            "Epoch 36/500\n",
            "71/71 [==============================] - 14s 198ms/step - loss: 0.6379 - accuracy: 0.7670 - val_loss: 0.9252 - val_accuracy: 0.6645\n",
            "\n",
            "Epoch 00036: val_loss did not improve from 0.87892\n",
            "Epoch 37/500\n",
            "71/71 [==============================] - 14s 198ms/step - loss: 0.6069 - accuracy: 0.7823 - val_loss: 0.9200 - val_accuracy: 0.6710\n",
            "\n",
            "Epoch 00037: val_loss did not improve from 0.87892\n",
            "Epoch 38/500\n",
            "71/71 [==============================] - 14s 198ms/step - loss: 0.5777 - accuracy: 0.7956 - val_loss: 0.9534 - val_accuracy: 0.6525\n",
            "\n",
            "Epoch 00038: val_loss did not improve from 0.87892\n",
            "Epoch 39/500\n",
            "71/71 [==============================] - 14s 199ms/step - loss: 0.5554 - accuracy: 0.8013 - val_loss: 0.9638 - val_accuracy: 0.6680\n",
            "\n",
            "Epoch 00039: val_loss did not improve from 0.87892\n",
            "Epoch 40/500\n",
            "71/71 [==============================] - 14s 198ms/step - loss: 0.5307 - accuracy: 0.8155 - val_loss: 1.0375 - val_accuracy: 0.6605\n",
            "\n",
            "Epoch 00040: val_loss did not improve from 0.87892\n",
            "Epoch 41/500\n",
            "71/71 [==============================] - 14s 198ms/step - loss: 0.5378 - accuracy: 0.8119 - val_loss: 0.9233 - val_accuracy: 0.6780\n",
            "\n",
            "Epoch 00041: val_loss did not improve from 0.87892\n",
            "Epoch 42/500\n",
            "71/71 [==============================] - 14s 199ms/step - loss: 0.5102 - accuracy: 0.8181 - val_loss: 0.9405 - val_accuracy: 0.6770\n",
            "\n",
            "Epoch 00042: val_loss did not improve from 0.87892\n",
            "Epoch 43/500\n",
            "71/71 [==============================] - 14s 199ms/step - loss: 0.5056 - accuracy: 0.8227 - val_loss: 0.9679 - val_accuracy: 0.6640\n",
            "\n",
            "Epoch 00043: val_loss did not improve from 0.87892\n",
            "Epoch 44/500\n",
            "71/71 [==============================] - 14s 199ms/step - loss: 0.4932 - accuracy: 0.8275 - val_loss: 0.9711 - val_accuracy: 0.6735\n",
            "\n",
            "Epoch 00044: val_loss did not improve from 0.87892\n",
            "Epoch 45/500\n",
            "71/71 [==============================] - 14s 198ms/step - loss: 0.4728 - accuracy: 0.8358 - val_loss: 0.9675 - val_accuracy: 0.6705\n",
            "\n",
            "Epoch 00045: val_loss did not improve from 0.87892\n",
            "Epoch 46/500\n",
            "71/71 [==============================] - 14s 199ms/step - loss: 0.4336 - accuracy: 0.8480 - val_loss: 0.9871 - val_accuracy: 0.6775\n",
            "\n",
            "Epoch 00046: val_loss did not improve from 0.87892\n",
            "Epoch 47/500\n",
            "71/71 [==============================] - 14s 198ms/step - loss: 0.4419 - accuracy: 0.8487 - val_loss: 1.0348 - val_accuracy: 0.6740\n",
            "\n",
            "Epoch 00047: val_loss did not improve from 0.87892\n",
            "Epoch 48/500\n",
            "71/71 [==============================] - 14s 198ms/step - loss: 0.4183 - accuracy: 0.8568 - val_loss: 1.0538 - val_accuracy: 0.6730\n",
            "\n",
            "Epoch 00048: val_loss did not improve from 0.87892\n",
            "Epoch 49/500\n",
            "71/71 [==============================] - 14s 198ms/step - loss: 0.3845 - accuracy: 0.8712 - val_loss: 1.1458 - val_accuracy: 0.6465\n",
            "\n",
            "Epoch 00049: val_loss did not improve from 0.87892\n",
            "Epoch 50/500\n",
            "71/71 [==============================] - 14s 198ms/step - loss: 0.3935 - accuracy: 0.8595 - val_loss: 1.0702 - val_accuracy: 0.6765\n",
            "\n",
            "Epoch 00050: val_loss did not improve from 0.87892\n",
            "Epoch 51/500\n",
            "71/71 [==============================] - 14s 198ms/step - loss: 0.3649 - accuracy: 0.8776 - val_loss: 1.1000 - val_accuracy: 0.6585\n",
            "\n",
            "Epoch 00051: val_loss did not improve from 0.87892\n",
            "Epoch 52/500\n",
            "71/71 [==============================] - 14s 198ms/step - loss: 0.3612 - accuracy: 0.8750 - val_loss: 1.1303 - val_accuracy: 0.6700\n",
            "\n",
            "Epoch 00052: val_loss did not improve from 0.87892\n",
            "Epoch 53/500\n",
            "71/71 [==============================] - 14s 198ms/step - loss: 0.3310 - accuracy: 0.8899 - val_loss: 1.0711 - val_accuracy: 0.6785\n",
            "\n",
            "Epoch 00053: val_loss did not improve from 0.87892\n",
            "Epoch 54/500\n",
            "71/71 [==============================] - 14s 198ms/step - loss: 0.2976 - accuracy: 0.9013 - val_loss: 1.1026 - val_accuracy: 0.6740\n",
            "\n",
            "Epoch 00054: val_loss did not improve from 0.87892\n",
            "Epoch 55/500\n",
            "71/71 [==============================] - 14s 198ms/step - loss: 0.2711 - accuracy: 0.9156 - val_loss: 1.2236 - val_accuracy: 0.6660\n",
            "\n",
            "Epoch 00055: val_loss did not improve from 0.87892\n",
            "Epoch 56/500\n",
            "71/71 [==============================] - 14s 199ms/step - loss: 0.2982 - accuracy: 0.8983 - val_loss: 1.1241 - val_accuracy: 0.6640\n",
            "\n",
            "Epoch 00056: val_loss did not improve from 0.87892\n",
            "Epoch 00056: early stopping\n"
          ],
          "name": "stdout"
        }
      ]
    },
    {
      "cell_type": "code",
      "metadata": {
        "colab": {
          "base_uri": "https://localhost:8080/"
        },
        "id": "cDB9hPg63osP",
        "outputId": "51263461-fc48-42fb-f6ac-294f1a302d61"
      },
      "source": [
        "#Save the models\n",
        "vgg_model.save(\"vgg_model.h5\")\n",
        "vgg_model.save(\"vgg_model.model\")"
      ],
      "execution_count": null,
      "outputs": [
        {
          "output_type": "stream",
          "text": [
            "INFO:tensorflow:Assets written to: vgg_model.model/assets\n"
          ],
          "name": "stdout"
        }
      ]
    },
    {
      "cell_type": "code",
      "metadata": {
        "colab": {
          "base_uri": "https://localhost:8080/",
          "height": 541
        },
        "id": "N9uWsdremsKY",
        "outputId": "8a0aa481-c83b-494a-b144-3d185501a01a"
      },
      "source": [
        "plt.plot(vgg_history.history['val_loss'])\n",
        "plt.ylabel('validitation loss')\n",
        "plt.xlabel('epoch')\n",
        "plt.legend(['VGG'], bbox_to_anchor=[1,1])\n",
        "plt.xticks(range(0, epochs+1, 5), range(0, epochs+1, 5))\n",
        "plt.show()\n",
        "plt.plot(vgg_history.history['val_accuracy'],)\n",
        "plt.ylabel('validitation accuracy')\n",
        "plt.xlabel('epoch')\n",
        "plt.legend(['VGG'], bbox_to_anchor=[1,1])\n",
        "plt.xticks(range(0, epochs+1, 5), range(0, epochs+1, 5))\n",
        "plt.show()"
      ],
      "execution_count": null,
      "outputs": [
        {
          "output_type": "display_data",
          "data": {
            "image/png": "[encoded data removed]",
            "text/plain": [
              "<Figure size 432x288 with 1 Axes>"
            ]
          },
          "metadata": {
            "tags": []
          }
        },
        {
          "output_type": "display_data",
          "data": {
            "image/png": "[encoded data removed]",
            "text/plain": [
              "<Figure size 432x288 with 1 Axes>"
            ]
          },
          "metadata": {
            "tags": []
          }
        }
      ]
    },
    {
      "cell_type": "code",
      "metadata": {
        "id": "8qbbEUfnvzl6"
      },
      "source": [
        "from IPython.display import display, Javascript\n",
        "from google.colab.output import eval_js\n",
        "from base64 import b64decode\n",
        "\n",
        "def take_photo(filename='photo.jpg', quality=0.8):\n",
        "  js = Javascript('''\n",
        "    async function takePhoto(quality) {\n",
        "      const div = document.createElement('div');\n",
        "      const capture = document.createElement('button');\n",
        "      capture.textContent = 'Capture';\n",
        "      div.appendChild(capture);\n",
        "\n",
        "      const video = document.createElement('video');\n",
        "      video.style.display = 'block';\n",
        "      const stream = await navigator.mediaDevices.getUserMedia({video: true});\n",
        "\n",
        "      document.body.appendChild(div);\n",
        "      div.appendChild(video);\n",
        "      video.srcObject = stream;\n",
        "      await video.play();\n",
        "\n",
        "      // Resize the output to fit the video element.\n",
        "      google.colab.output.setIframeHeight(document.documentElement.scrollHeight, true);\n",
        "\n",
        "      // Wait for Capture to be clicked.\n",
        "      await new Promise((resolve) => capture.onclick = resolve);\n",
        "\n",
        "      const canvas = document.createElement('canvas');\n",
        "      canvas.width = video.videoWidth;\n",
        "      canvas.height = video.videoHeight;\n",
        "      canvas.getContext('2d').drawImage(video, 0, 0);\n",
        "      stream.getVideoTracks()[0].stop();\n",
        "      div.remove();\n",
        "      return canvas.toDataURL('image/jpeg', quality);\n",
        "    }\n",
        "    ''')\n",
        "  display(js)\n",
        "  data = eval_js('takePhoto({})'.format(quality))\n",
        "  binary = b64decode(data.split(',')[1])\n",
        "  with open(filename, 'wb') as f:\n",
        "    f.write(binary)\n",
        "  return filename"
      ],
      "execution_count": null,
      "outputs": []
    },
    {
      "cell_type": "code",
      "metadata": {
        "colab": {
          "background_save": true,
          "base_uri": "https://localhost:8080/",
          "height": 518
        },
        "id": "9t9XSs7avzl9",
        "outputId": "fece3c5d-9432-402f-88fc-0840be4812be"
      },
      "source": [
        "from IPython.display import Image\n",
        "try:\n",
        "  filename = take_photo()\n",
        "  print('Saved to {}'.format(filename))\n",
        "  \n",
        "  # Show the image which was just taken.\n",
        "  display(Image(filename))\n",
        "except Exception as err:\n",
        "  # Errors will be thrown if the user does not have a webcam or if they do not\n",
        "  # grant the page permission to access it.\n",
        "  print(str(err))"
      ],
      "execution_count": null,
      "outputs": [
        {
          "output_type": "display_data",
          "data": {
            "application/javascript": [
              "\n",
              "    async function takePhoto(quality) {\n",
              "      const div = document.createElement('div');\n",
              "      const capture = document.createElement('button');\n",
              "      capture.textContent = 'Capture';\n",
              "      div.appendChild(capture);\n",
              "\n",
              "      const video = document.createElement('video');\n",
              "      video.style.display = 'block';\n",
              "      const stream = await navigator.mediaDevices.getUserMedia({video: true});\n",
              "\n",
              "      document.body.appendChild(div);\n",
              "      div.appendChild(video);\n",
              "      video.srcObject = stream;\n",
              "      await video.play();\n",
              "\n",
              "      // Resize the output to fit the video element.\n",
              "      google.colab.output.setIframeHeight(document.documentElement.scrollHeight, true);\n",
              "\n",
              "      // Wait for Capture to be clicked.\n",
              "      await new Promise((resolve) => capture.onclick = resolve);\n",
              "\n",
              "      const canvas = document.createElement('canvas');\n",
              "      canvas.width = video.videoWidth;\n",
              "      canvas.height = video.videoHeight;\n",
              "      canvas.getContext('2d').drawImage(video, 0, 0);\n",
              "      stream.getVideoTracks()[0].stop();\n",
              "      div.remove();\n",
              "      return canvas.toDataURL('image/jpeg', quality);\n",
              "    }\n",
              "    "
            ],
            "text/plain": [
              "<IPython.core.display.Javascript object>"
            ]
          },
          "metadata": {
            "tags": []
          }
        },
        {
          "output_type": "stream",
          "text": [
            "'NoneType' object has no attribute 'split'\n"
          ],
          "name": "stdout"
        }
      ]
    },
    {
      "cell_type": "code",
      "metadata": {
        "colab": {
          "background_save": true
        },
        "id": "GVwCXU253uzZ",
        "outputId": "893dd723-239a-46a8-9fc7-5b35e9af8a44"
      },
      "source": [
        "from PIL import Image\n",
        "im = Image.open('photo.jpg').convert(\"L\")\n",
        "w, h = im.size   # Get dimensions\n",
        "box = h if h <= w else w\n",
        "\n",
        "left = round((w - box)/2)\n",
        "top = round((h - box)/2)\n",
        "x_right = round(w - box) - left\n",
        "x_bottom = round(h - box) - top\n",
        "right = w - x_right\n",
        "bottom = w - x_bottom\n",
        "\n",
        "# Crop the center of the image\n",
        "im = im.crop((left, top, right, bottom))\n",
        "im = im.resize((48,48))\n",
        "im.save('what.png')\n",
        "\n",
        "data = cv2.imread(\"what.png\", cv2.IMREAD_GRAYSCALE)\n",
        "\n",
        "#Turn the data into a format the CNN will understand\n",
        "data = data.reshape(1, 48, 48)\n",
        "#data = np.array([np.transpose(np.array([data[ix].squeeze() for i in range(3)]), (1,2,0)) for ix in range(len(data))])\n",
        "data = np.array([np.transpose(np.array([data[ix].squeeze() for i in range(3)]), (1,2,0)) for ix in range(len(data))])\n",
        "\n",
        "print(data.shape)\n",
        "print(X_train_cnn[0].shape)\n",
        "\n",
        "pred = vgg_model.predict(data)\n",
        "emotions = [\"Angry\",\"Happy\",\"Sad\",\"Surprise\",\"Neutral\"]\n",
        "pred_emotion = emotions[np.argmax(pred)]\n",
        "print(pred, pred_emotion)"
      ],
      "execution_count": null,
      "outputs": [
        {
          "output_type": "error",
          "ename": "FileNotFoundError",
          "evalue": "ignored",
          "traceback": [
            "\u001b[0;31m---------------------------------------------------------------------------\u001b[0m",
            "\u001b[0;31mFileNotFoundError\u001b[0m                         Traceback (most recent call last)",
            "\u001b[0;32m<ipython-input-11-3dd9fabd7d8b>\u001b[0m in \u001b[0;36m<module>\u001b[0;34m()\u001b[0m\n\u001b[1;32m      1\u001b[0m \u001b[0;32mfrom\u001b[0m \u001b[0mPIL\u001b[0m \u001b[0;32mimport\u001b[0m \u001b[0mImage\u001b[0m\u001b[0;34m\u001b[0m\u001b[0;34m\u001b[0m\u001b[0m\n\u001b[0;32m----> 2\u001b[0;31m \u001b[0mim\u001b[0m \u001b[0;34m=\u001b[0m \u001b[0mImage\u001b[0m\u001b[0;34m.\u001b[0m\u001b[0mopen\u001b[0m\u001b[0;34m(\u001b[0m\u001b[0;34m'photo.jpg'\u001b[0m\u001b[0;34m)\u001b[0m\u001b[0;34m.\u001b[0m\u001b[0mconvert\u001b[0m\u001b[0;34m(\u001b[0m\u001b[0;34m\"L\"\u001b[0m\u001b[0;34m)\u001b[0m\u001b[0;34m\u001b[0m\u001b[0;34m\u001b[0m\u001b[0m\n\u001b[0m\u001b[1;32m      3\u001b[0m \u001b[0mw\u001b[0m\u001b[0;34m,\u001b[0m \u001b[0mh\u001b[0m \u001b[0;34m=\u001b[0m \u001b[0mim\u001b[0m\u001b[0;34m.\u001b[0m\u001b[0msize\u001b[0m   \u001b[0;31m# Get dimensions\u001b[0m\u001b[0;34m\u001b[0m\u001b[0;34m\u001b[0m\u001b[0m\n\u001b[1;32m      4\u001b[0m \u001b[0mbox\u001b[0m \u001b[0;34m=\u001b[0m \u001b[0mh\u001b[0m \u001b[0;32mif\u001b[0m \u001b[0mh\u001b[0m \u001b[0;34m<=\u001b[0m \u001b[0mw\u001b[0m \u001b[0;32melse\u001b[0m \u001b[0mw\u001b[0m\u001b[0;34m\u001b[0m\u001b[0;34m\u001b[0m\u001b[0m\n\u001b[1;32m      5\u001b[0m \u001b[0;34m\u001b[0m\u001b[0m\n",
            "\u001b[0;32m/usr/local/lib/python3.7/dist-packages/PIL/Image.py\u001b[0m in \u001b[0;36mopen\u001b[0;34m(fp, mode)\u001b[0m\n\u001b[1;32m   2841\u001b[0m \u001b[0;34m\u001b[0m\u001b[0m\n\u001b[1;32m   2842\u001b[0m     \u001b[0;32mif\u001b[0m \u001b[0mfilename\u001b[0m\u001b[0;34m:\u001b[0m\u001b[0;34m\u001b[0m\u001b[0;34m\u001b[0m\u001b[0m\n\u001b[0;32m-> 2843\u001b[0;31m         \u001b[0mfp\u001b[0m \u001b[0;34m=\u001b[0m \u001b[0mbuiltins\u001b[0m\u001b[0;34m.\u001b[0m\u001b[0mopen\u001b[0m\u001b[0;34m(\u001b[0m\u001b[0mfilename\u001b[0m\u001b[0;34m,\u001b[0m \u001b[0;34m\"rb\"\u001b[0m\u001b[0;34m)\u001b[0m\u001b[0;34m\u001b[0m\u001b[0;34m\u001b[0m\u001b[0m\n\u001b[0m\u001b[1;32m   2844\u001b[0m         \u001b[0mexclusive_fp\u001b[0m \u001b[0;34m=\u001b[0m \u001b[0;32mTrue\u001b[0m\u001b[0;34m\u001b[0m\u001b[0;34m\u001b[0m\u001b[0m\n\u001b[1;32m   2845\u001b[0m \u001b[0;34m\u001b[0m\u001b[0m\n",
            "\u001b[0;31mFileNotFoundError\u001b[0m: [Errno 2] No such file or directory: 'photo.jpg'"
          ]
        }
      ]
    }
  ]
}